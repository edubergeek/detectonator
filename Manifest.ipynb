{
 "cells": [
  {
   "cell_type": "code",
   "execution_count": 1,
   "metadata": {},
   "outputs": [],
   "source": [
    "import os\n",
    "import csv"
   ]
  },
  {
   "cell_type": "code",
   "execution_count": 2,
   "metadata": {},
   "outputs": [],
   "source": [
    "ROOTDIR='/stage/atclass'"
   ]
  },
  {
   "cell_type": "code",
   "execution_count": 3,
   "metadata": {},
   "outputs": [],
   "source": [
    "classes = ['real', 'var', 'lin', 'flaw', 'cr']\n",
    "versions = ['V1', 'V2']\n",
    "header = ['class', 'tel', 'filt', 'night', 'exposure', 'imageid']\n",
    "\n"
   ]
  },
  {
   "cell_type": "code",
   "execution_count": 4,
   "metadata": {},
   "outputs": [],
   "source": [
    "with open('manifest.csv', 'w') as csvfile:\n",
    "  writer = csv.writer(csvfile) \n",
    "  writer.writerow(header)\n",
    "  \n",
    "  for ver in versions:\n",
    "    verdir = os.path.join(ROOTDIR, ver)\n",
    "    for c in range(len(classes)):\n",
    "      classdir = os.path.join(verdir, classes[c])\n",
    "      for root, dirs, files in os.walk(classdir, topdown=False):\n",
    "        for name in files:\n",
    "          val = name.split('.')\n",
    "          imageid = val[0]\n",
    "          exposure = val[1]\n",
    "          tel = int(imageid[0:2])\n",
    "          filt = imageid[-1]\n",
    "          night = imageid[2:-1]\n",
    "          row = [c, tel, filt, night, exposure, imageid]\n",
    "          writer.writerow(row)\n"
   ]
  },
  {
   "cell_type": "code",
   "execution_count": null,
   "metadata": {},
   "outputs": [],
   "source": [
    "\n"
   ]
  }
 ],
 "metadata": {
  "kernelspec": {
   "display_name": "Python 3",
   "language": "python",
   "name": "python3"
  },
  "language_info": {
   "codemirror_mode": {
    "name": "ipython",
    "version": 3
   },
   "file_extension": ".py",
   "mimetype": "text/x-python",
   "name": "python",
   "nbconvert_exporter": "python",
   "pygments_lexer": "ipython3",
   "version": "3.8.5"
  }
 },
 "nbformat": 4,
 "nbformat_minor": 4
}
